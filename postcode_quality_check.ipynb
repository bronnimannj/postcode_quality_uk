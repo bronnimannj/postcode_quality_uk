{
 "cells": [
  {
   "cell_type": "markdown",
   "metadata": {},
   "source": [
    "# Check of postode quality"
   ]
  },
  {
   "cell_type": "code",
   "execution_count": 1,
   "metadata": {},
   "outputs": [],
   "source": [
    "# packages import\n",
    "import pandas as pd \n",
    "import numpy as np "
   ]
  },
  {
   "cell_type": "markdown",
   "metadata": {},
   "source": [
    "## Data import\n",
    "First, we import the filtered tables"
   ]
  },
  {
   "cell_type": "code",
   "execution_count": 107,
   "metadata": {},
   "outputs": [],
   "source": [
    "data = pd.read_pickle('data/filtered/postcode_filtered.pickle')\n",
    "pets = pd.read_pickle('data/filtered/pets_filtered.pickle')\n",
    "flood = pd.read_pickle('data/filtered/flood_risk_filtered.pickle')\n",
    "imd = pd.read_pickle('data/filtered/imd_filtered.pickle')\n",
    "elevation = pd.read_pickle('data/filtered/elevation_filtered.pickle')"
   ]
  },
  {
   "cell_type": "markdown",
   "metadata": {},
   "source": [
    "## Join data\n",
    "### Create district and sector data\n",
    "From the postcode data, we create district and sector datasets to make sure we have the full list of districts and sectors to join other tables."
   ]
  },
  {
   "cell_type": "code",
   "execution_count": 108,
   "metadata": {},
   "outputs": [],
   "source": [
    "# Let's create the district and sector columns\n",
    "data[['district', 'dis1']] = data['pcds'].str.split(' ', 1, expand=True)\n",
    "data.drop(['dis1'], axis = 1, inplace = True)\n",
    "\n",
    "data['sector'] = data['district'].str[0:2]\n",
    "data['sector'] = data['sector'].str.replace(\n",
    "    pat = r\"[0-9]+\", \n",
    "    repl = \"\",\n",
    "    regex = True\n",
    ")"
   ]
  },
  {
   "cell_type": "code",
   "execution_count": 86,
   "metadata": {},
   "outputs": [],
   "source": [
    "# create data with one row per district\n",
    "district_data = data[['district','sector']].\\\n",
    "    drop_duplicates().\\\n",
    "    reset_index(drop = True).copy()"
   ]
  },
  {
   "cell_type": "code",
   "execution_count": 89,
   "metadata": {},
   "outputs": [],
   "source": [
    "# create data with one row per sector\n",
    "lsoa_data = data[['lsoa11']].\\\n",
    "    drop_duplicates().\\\n",
    "    reset_index(drop = True).copy()"
   ]
  },
  {
   "cell_type": "markdown",
   "metadata": {},
   "source": [
    "### Create full data\n",
    "Now, let's create full tables, as most of them do not cover all postcodes/districts/sectors.\n",
    "#### Pets"
   ]
  },
  {
   "cell_type": "code",
   "execution_count": 87,
   "metadata": {},
   "outputs": [],
   "source": [
    "# join the district data to pets\n",
    "district_data = district_data.merge(\n",
    "    pets,\n",
    "    on = 'district',\n",
    "    how = 'left'\n",
    ")\n",
    "\n",
    "# let's take the districts that do contain values\n",
    "pets_existing = district_data[~district_data['estimated_cat_population'].isna()].copy()\n",
    "pets_existing['pets_value_from'] = 'raw_district'\n",
    "\n",
    "# rows that have missing values\n",
    "pets_missing = district_data[district_data['estimated_cat_population'].isna()].copy()\n",
    "\n",
    "# # group the existing values by sector and average the values\n",
    "pets_sector_avg = pets_existing.groupby(['sector']).agg(np.mean)\n",
    "pets_missing = pets_missing[['sector']].merge(\n",
    "    pets_sector_avg,\n",
    "    how = 'inner',\n",
    "    on = 'sector'\n",
    ")\n",
    "pets_missing['pets_value_from'] = 'avg_sector'\n",
    "\n",
    "# put data back together\n",
    "district_data = pd.concat(\n",
    "    [pets_existing,pets_missing]\n",
    ")\n",
    "\n",
    "# clean memory\n",
    "del pets, pets_existing, pets_missing, pets_sector_avg"
   ]
  },
  {
   "cell_type": "markdown",
   "metadata": {},
   "source": [
    "#### IMD"
   ]
  },
  {
   "cell_type": "code",
   "execution_count": 90,
   "metadata": {},
   "outputs": [
    {
     "data": {
      "text/html": [
       "<div>\n",
       "<style scoped>\n",
       "    .dataframe tbody tr th:only-of-type {\n",
       "        vertical-align: middle;\n",
       "    }\n",
       "\n",
       "    .dataframe tbody tr th {\n",
       "        vertical-align: top;\n",
       "    }\n",
       "\n",
       "    .dataframe thead th {\n",
       "        text-align: right;\n",
       "    }\n",
       "</style>\n",
       "<table border=\"1\" class=\"dataframe\">\n",
       "  <thead>\n",
       "    <tr style=\"text-align: right;\">\n",
       "      <th></th>\n",
       "      <th>lsoa</th>\n",
       "      <th>imd_global_rank</th>\n",
       "      <th>imd_global_decile</th>\n",
       "      <th>imd_income_rank</th>\n",
       "      <th>imd_income_decile</th>\n",
       "      <th>imd_employment_rank</th>\n",
       "      <th>imd_employment_decile</th>\n",
       "      <th>imd_education_rank</th>\n",
       "      <th>imd_education_decile</th>\n",
       "      <th>imd_health_rank</th>\n",
       "      <th>imd_health_decile</th>\n",
       "      <th>imd_crime_rank</th>\n",
       "      <th>imd_crime_decile</th>\n",
       "      <th>imd_services_rank</th>\n",
       "      <th>imd_services_decile</th>\n",
       "      <th>imd_living_environment_rank</th>\n",
       "      <th>imd_living_environment_decile</th>\n",
       "    </tr>\n",
       "  </thead>\n",
       "  <tbody>\n",
       "    <tr>\n",
       "      <th>0</th>\n",
       "      <td>E01000001</td>\n",
       "      <td>29199</td>\n",
       "      <td>9</td>\n",
       "      <td>32831</td>\n",
       "      <td>10</td>\n",
       "      <td>32742</td>\n",
       "      <td>10</td>\n",
       "      <td>32842</td>\n",
       "      <td>10</td>\n",
       "      <td>32113</td>\n",
       "      <td>10</td>\n",
       "      <td>32662</td>\n",
       "      <td>10</td>\n",
       "      <td>7319</td>\n",
       "      <td>3</td>\n",
       "      <td>7789</td>\n",
       "      <td>3</td>\n",
       "    </tr>\n",
       "    <tr>\n",
       "      <th>1</th>\n",
       "      <td>E01000002</td>\n",
       "      <td>30379</td>\n",
       "      <td>10</td>\n",
       "      <td>29901</td>\n",
       "      <td>10</td>\n",
       "      <td>31190</td>\n",
       "      <td>10</td>\n",
       "      <td>32832</td>\n",
       "      <td>10</td>\n",
       "      <td>29705</td>\n",
       "      <td>10</td>\n",
       "      <td>32789</td>\n",
       "      <td>10</td>\n",
       "      <td>11707</td>\n",
       "      <td>4</td>\n",
       "      <td>13070</td>\n",
       "      <td>4</td>\n",
       "    </tr>\n",
       "    <tr>\n",
       "      <th>2</th>\n",
       "      <td>E01000003</td>\n",
       "      <td>14915</td>\n",
       "      <td>5</td>\n",
       "      <td>18510</td>\n",
       "      <td>6</td>\n",
       "      <td>15103</td>\n",
       "      <td>5</td>\n",
       "      <td>26386</td>\n",
       "      <td>9</td>\n",
       "      <td>17600</td>\n",
       "      <td>6</td>\n",
       "      <td>29363</td>\n",
       "      <td>9</td>\n",
       "      <td>2157</td>\n",
       "      <td>1</td>\n",
       "      <td>4092</td>\n",
       "      <td>2</td>\n",
       "    </tr>\n",
       "    <tr>\n",
       "      <th>3</th>\n",
       "      <td>E01000005</td>\n",
       "      <td>8678</td>\n",
       "      <td>3</td>\n",
       "      <td>6029</td>\n",
       "      <td>2</td>\n",
       "      <td>7833</td>\n",
       "      <td>3</td>\n",
       "      <td>12370</td>\n",
       "      <td>4</td>\n",
       "      <td>17907</td>\n",
       "      <td>6</td>\n",
       "      <td>31059</td>\n",
       "      <td>10</td>\n",
       "      <td>2217</td>\n",
       "      <td>1</td>\n",
       "      <td>9397</td>\n",
       "      <td>3</td>\n",
       "    </tr>\n",
       "    <tr>\n",
       "      <th>4</th>\n",
       "      <td>E01000006</td>\n",
       "      <td>14486</td>\n",
       "      <td>5</td>\n",
       "      <td>14023</td>\n",
       "      <td>5</td>\n",
       "      <td>21692</td>\n",
       "      <td>7</td>\n",
       "      <td>17511</td>\n",
       "      <td>6</td>\n",
       "      <td>21581</td>\n",
       "      <td>7</td>\n",
       "      <td>18848</td>\n",
       "      <td>6</td>\n",
       "      <td>1033</td>\n",
       "      <td>1</td>\n",
       "      <td>10629</td>\n",
       "      <td>4</td>\n",
       "    </tr>\n",
       "  </tbody>\n",
       "</table>\n",
       "</div>"
      ],
      "text/plain": [
       "        lsoa  imd_global_rank  imd_global_decile  imd_income_rank  \\\n",
       "0  E01000001            29199                  9            32831   \n",
       "1  E01000002            30379                 10            29901   \n",
       "2  E01000003            14915                  5            18510   \n",
       "3  E01000005             8678                  3             6029   \n",
       "4  E01000006            14486                  5            14023   \n",
       "\n",
       "   imd_income_decile  imd_employment_rank  imd_employment_decile  \\\n",
       "0                 10                32742                     10   \n",
       "1                 10                31190                     10   \n",
       "2                  6                15103                      5   \n",
       "3                  2                 7833                      3   \n",
       "4                  5                21692                      7   \n",
       "\n",
       "   imd_education_rank  imd_education_decile  imd_health_rank  \\\n",
       "0               32842                    10            32113   \n",
       "1               32832                    10            29705   \n",
       "2               26386                     9            17600   \n",
       "3               12370                     4            17907   \n",
       "4               17511                     6            21581   \n",
       "\n",
       "   imd_health_decile  imd_crime_rank  imd_crime_decile  imd_services_rank  \\\n",
       "0                 10           32662                10               7319   \n",
       "1                 10           32789                10              11707   \n",
       "2                  6           29363                 9               2157   \n",
       "3                  6           31059                10               2217   \n",
       "4                  7           18848                 6               1033   \n",
       "\n",
       "   imd_services_decile  imd_living_environment_rank  \\\n",
       "0                    3                         7789   \n",
       "1                    4                        13070   \n",
       "2                    1                         4092   \n",
       "3                    1                         9397   \n",
       "4                    1                        10629   \n",
       "\n",
       "   imd_living_environment_decile  \n",
       "0                              3  \n",
       "1                              4  \n",
       "2                              2  \n",
       "3                              3  \n",
       "4                              4  "
      ]
     },
     "execution_count": 90,
     "metadata": {},
     "output_type": "execute_result"
    }
   ],
   "source": [
    "imd.head()"
   ]
  },
  {
   "cell_type": "code",
   "execution_count": 97,
   "metadata": {},
   "outputs": [],
   "source": [
    "imd.rename(\n",
    "    columns = {'lsoa':'lsoa11'},\n",
    "    inplace = True\n",
    ")\n",
    "\n",
    "# join the lsoa data to IMD data\n",
    "lsoa_data = lsoa_data.merge(\n",
    "    imd,\n",
    "    on = 'lsoa11',\n",
    "    how = 'inner'\n",
    ")\n",
    "\n",
    "del imd"
   ]
  },
  {
   "cell_type": "markdown",
   "metadata": {},
   "source": [
    "#### Flood"
   ]
  },
  {
   "cell_type": "code",
   "execution_count": 109,
   "metadata": {},
   "outputs": [],
   "source": [
    "\n",
    "# merge on all postcodes\n",
    "flood_pcd = data[['pcds', 'district','sector']].merge(\n",
    "    flood,\n",
    "    how = 'left',\n",
    "    left_on = 'pcds',\n",
    "    right_on = 'postcode'\n",
    ")"
   ]
  },
  {
   "cell_type": "code",
   "execution_count": 112,
   "metadata": {},
   "outputs": [
    {
     "data": {
      "text/html": [
       "<div>\n",
       "<style scoped>\n",
       "    .dataframe tbody tr th:only-of-type {\n",
       "        vertical-align: middle;\n",
       "    }\n",
       "\n",
       "    .dataframe tbody tr th {\n",
       "        vertical-align: top;\n",
       "    }\n",
       "\n",
       "    .dataframe thead th {\n",
       "        text-align: right;\n",
       "    }\n",
       "</style>\n",
       "<table border=\"1\" class=\"dataframe\">\n",
       "  <thead>\n",
       "    <tr style=\"text-align: right;\">\n",
       "      <th></th>\n",
       "      <th>flood_risk_int</th>\n",
       "      <th>risk_for_insurance_int</th>\n",
       "    </tr>\n",
       "    <tr>\n",
       "      <th>district</th>\n",
       "      <th></th>\n",
       "      <th></th>\n",
       "    </tr>\n",
       "  </thead>\n",
       "  <tbody>\n",
       "    <tr>\n",
       "      <th>AL1</th>\n",
       "      <td>0.0</td>\n",
       "      <td>0.0</td>\n",
       "    </tr>\n",
       "    <tr>\n",
       "      <th>AL10</th>\n",
       "      <td>0.0</td>\n",
       "      <td>0.0</td>\n",
       "    </tr>\n",
       "    <tr>\n",
       "      <th>AL2</th>\n",
       "      <td>0.0</td>\n",
       "      <td>0.0</td>\n",
       "    </tr>\n",
       "    <tr>\n",
       "      <th>AL3</th>\n",
       "      <td>0.0</td>\n",
       "      <td>0.0</td>\n",
       "    </tr>\n",
       "    <tr>\n",
       "      <th>AL4</th>\n",
       "      <td>0.0</td>\n",
       "      <td>0.0</td>\n",
       "    </tr>\n",
       "  </tbody>\n",
       "</table>\n",
       "</div>"
      ],
      "text/plain": [
       "          flood_risk_int  risk_for_insurance_int\n",
       "district                                        \n",
       "AL1                  0.0                     0.0\n",
       "AL10                 0.0                     0.0\n",
       "AL2                  0.0                     0.0\n",
       "AL3                  0.0                     0.0\n",
       "AL4                  0.0                     0.0"
      ]
     },
     "execution_count": 112,
     "metadata": {},
     "output_type": "execute_result"
    }
   ],
   "source": [
    "# take the subdata where values are not missing and group by district\n",
    "flood_dst = flood_pcd[ ~flood_pcd['flood_risk_int'].isna()].\\\n",
    "    groupby(['district']).agg(np.mean)\n",
    "# round to nearest int\n",
    "flood_dst['flood_risk_int'] = np.round(flood_dst['flood_risk_int'],0)\n",
    "flood_dst['risk_for_insurance_int'] = np.round(flood_dst['risk_for_insurance_int'],0)\n",
    "\n",
    "# take the subdata where values are not missing and group by sector\n",
    "flood_sct = flood_pcd[ ~flood_pcd['flood_risk_int'].isna()].\\\n",
    "    groupby(['sector']).agg(np.mean)\n",
    "# round to nearest int\n",
    "flood_sct['flood_risk_int'] = np.round(flood_sct['flood_risk_int'],0)\n",
    "flood_sct['risk_for_insurance_int'] = np.round(flood_sct['risk_for_insurance_int'],0)\n",
    "\n",
    "# take the subdata where values are not missing and group by sector\n",
    "flood_sct = flood_pcd[ ~flood_pcd['flood_risk_int'].isna()].\\\n",
    "    groupby(['sector']).agg(np.mean)\n",
    "# round to nearest int\n",
    "flood_sct['flood_risk_int'] = np.round(flood_sct['flood_risk_int'],0)\n",
    "flood_sct['risk_for_insurance_int'] = np.round(flood_sct['risk_for_insurance_int'],0)\n",
    "\n",
    "flood_dst.head()"
   ]
  },
  {
   "cell_type": "markdown",
   "metadata": {},
   "source": [
    "#### Elevation"
   ]
  },
  {
   "cell_type": "code",
   "execution_count": null,
   "metadata": {},
   "outputs": [],
   "source": []
  },
  {
   "cell_type": "markdown",
   "metadata": {},
   "source": [
    "## Analysis"
   ]
  },
  {
   "cell_type": "markdown",
   "metadata": {},
   "source": [
    "### postcode input"
   ]
  },
  {
   "cell_type": "code",
   "execution_count": null,
   "metadata": {},
   "outputs": [],
   "source": []
  },
  {
   "cell_type": "markdown",
   "metadata": {},
   "source": [
    "### Results"
   ]
  },
  {
   "cell_type": "code",
   "execution_count": null,
   "metadata": {},
   "outputs": [],
   "source": []
  }
 ],
 "metadata": {
  "kernelspec": {
   "display_name": "Python 3.10.7 64-bit (microsoft store)",
   "language": "python",
   "name": "python3"
  },
  "language_info": {
   "codemirror_mode": {
    "name": "ipython",
    "version": 3
   },
   "file_extension": ".py",
   "mimetype": "text/x-python",
   "name": "python",
   "nbconvert_exporter": "python",
   "pygments_lexer": "ipython3",
   "version": "3.10.7"
  },
  "orig_nbformat": 4,
  "vscode": {
   "interpreter": {
    "hash": "c1ced07675a5ff60e936cac850907e96edd570f1074109e90be6aeafa0da62fb"
   }
  }
 },
 "nbformat": 4,
 "nbformat_minor": 2
}
